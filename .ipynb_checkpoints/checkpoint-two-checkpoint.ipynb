{
 "cells": [
  {
   "cell_type": "markdown",
   "metadata": {
    "azdata_cell_guid": "151601c9-ca7a-412e-af80-c62a87e0837e"
   },
   "source": [
    "# Checkpoint Two: Exploratory Data Analysis\n",
    "\n",
    "Now that your chosen dataset is approved, it is time to start working on your analysis. Use this notebook to perform your EDA and make notes where directed to as you work.\n",
    "\n",
    "## Getting Started\n",
    "\n",
    "Since we have not provided your dataset for you, you will need to load the necessary files in this repository. Make sure to include a link back to the original dataset here as well.\n",
    "\n",
    "My dataset:\n",
    "\n",
    "Your first task in EDA is to import necessary libraries and create a dataframe(s). Make note in the form of code comments of what your thought process is as you work on this setup task."
   ]
  },
  {
   "cell_type": "code",
   "execution_count": 3,
   "metadata": {
    "azdata_cell_guid": "7b503e37-6df5-4433-acfb-678b1346db14",
    "scrolled": true
   },
   "outputs": [],
   "source": [
    "# import the pandas library and use the alias 'pd', I am also importing seaborn matplot and numpy for visualizations\n",
    "import pandas as pd\n",
    "\n",
    "import numpy as np\n",
    "import seaborn as sns\n",
    "\n",
    "import matplotlib.pyplot as plt\n",
    "import matplotlib.mlab as mlab\n",
    "import matplotlib\n",
    "plt.style.use('ggplot')\n",
    "\n",
    "from matplotlib.pyplot import figure\n",
    "\n",
    "%matplotlib inline\n",
    "matplotlib.rcParams['figure.figsize'] = (12,8)\n",
    "\n",
    "pd.options.mode.chained_assignment = None\n",
    "\n",
    "# Create 3 new dataframes\n",
    "\n",
    "NAICS = pd.read_csv('KS 2020-2021 NAICS Code.csv')\n",
    "KS_tax = pd.read_csv('KS 2021 Sales Tax Revenue by County.csv')\n",
    "national = pd.read_csv('selected-monthly-sales-tax-collections-data.csv')\n"
   ]
  },
  {
   "cell_type": "markdown",
   "metadata": {
    "azdata_cell_guid": "129ce836-524b-4ea8-b394-a959f9308d6a"
   },
   "source": [
    "## Get to Know the Numbers\n",
    "\n",
    "Now that you have everything setup, put any code that you use to get to know the dataframe and its rows and columns better in the cell below. You can use whatever techniques you like, except for visualizations. You will put those in a separate section.\n",
    "\n",
    "When working on your code, make sure to leave comments so that your mentors can understand your thought process."
   ]
  },
  {
   "cell_type": "code",
   "execution_count": 36,
   "metadata": {
    "azdata_cell_guid": "0ca2d318-f6e8-43ef-a33e-5304d24d928d",
    "tags": []
   },
   "outputs": [],
   "source": [
    "#creating a variable for future use\n",
    "\n",
    "KS_tax_columns = KS_tax.columns\n"
   ]
  },
  {
   "cell_type": "code",
   "execution_count": 35,
   "metadata": {},
   "outputs": [
    {
     "data": {
      "text/html": [
       "<div>\n",
       "<style scoped>\n",
       "    .dataframe tbody tr th:only-of-type {\n",
       "        vertical-align: middle;\n",
       "    }\n",
       "\n",
       "    .dataframe tbody tr th {\n",
       "        vertical-align: top;\n",
       "    }\n",
       "\n",
       "    .dataframe thead th {\n",
       "        text-align: right;\n",
       "    }\n",
       "</style>\n",
       "<table border=\"1\" class=\"dataframe\">\n",
       "  <thead>\n",
       "    <tr style=\"text-align: right;\">\n",
       "      <th></th>\n",
       "      <th>Unnamed: 13</th>\n",
       "    </tr>\n",
       "  </thead>\n",
       "  <tbody>\n",
       "    <tr>\n",
       "      <th>count</th>\n",
       "      <td>0.0</td>\n",
       "    </tr>\n",
       "    <tr>\n",
       "      <th>mean</th>\n",
       "      <td>NaN</td>\n",
       "    </tr>\n",
       "    <tr>\n",
       "      <th>std</th>\n",
       "      <td>NaN</td>\n",
       "    </tr>\n",
       "    <tr>\n",
       "      <th>min</th>\n",
       "      <td>NaN</td>\n",
       "    </tr>\n",
       "    <tr>\n",
       "      <th>25%</th>\n",
       "      <td>NaN</td>\n",
       "    </tr>\n",
       "    <tr>\n",
       "      <th>50%</th>\n",
       "      <td>NaN</td>\n",
       "    </tr>\n",
       "    <tr>\n",
       "      <th>75%</th>\n",
       "      <td>NaN</td>\n",
       "    </tr>\n",
       "    <tr>\n",
       "      <th>max</th>\n",
       "      <td>NaN</td>\n",
       "    </tr>\n",
       "  </tbody>\n",
       "</table>\n",
       "</div>"
      ],
      "text/plain": [
       "       Unnamed: 13\n",
       "count          0.0\n",
       "mean           NaN\n",
       "std            NaN\n",
       "min            NaN\n",
       "25%            NaN\n",
       "50%            NaN\n",
       "75%            NaN\n",
       "max            NaN"
      ]
     },
     "execution_count": 35,
     "metadata": {},
     "output_type": "execute_result"
    }
   ],
   "source": [
    "may_taxes = KS_tax['May 2021'].describe() # I was unable to use desribe on the whole dataset so I am testing it on the columns. \n",
    "#Using these types of data frames will provide state totals for that particular month\n"
   ]
  },
  {
   "cell_type": "code",
   "execution_count": 32,
   "metadata": {},
   "outputs": [
    {
     "data": {
      "text/plain": [
       "Index(['City/County', 'January 2021', 'February 2021', 'March 2021',\n",
       "       'April 2021', 'May 2021', 'June 2021', 'July 2021', 'August 2021',\n",
       "       'September 2021', 'October 2021', 'November 2021', 'December 2021',\n",
       "       'Unnamed: 13', 'CY Total'],\n",
       "      dtype='object')"
      ]
     },
     "execution_count": 32,
     "metadata": {},
     "output_type": "execute_result"
    }
   ],
   "source": [
    "KS_tax.columns # looking at the column names"
   ]
  },
  {
   "cell_type": "code",
   "execution_count": 33,
   "metadata": {},
   "outputs": [
    {
     "data": {
      "text/html": [
       "<div>\n",
       "<style scoped>\n",
       "    .dataframe tbody tr th:only-of-type {\n",
       "        vertical-align: middle;\n",
       "    }\n",
       "\n",
       "    .dataframe tbody tr th {\n",
       "        vertical-align: top;\n",
       "    }\n",
       "\n",
       "    .dataframe thead th {\n",
       "        text-align: right;\n",
       "    }\n",
       "</style>\n",
       "<table border=\"1\" class=\"dataframe\">\n",
       "  <thead>\n",
       "    <tr style=\"text-align: right;\">\n",
       "      <th></th>\n",
       "      <th>City/County</th>\n",
       "      <th>January 2021</th>\n",
       "      <th>February 2021</th>\n",
       "      <th>March 2021</th>\n",
       "      <th>April 2021</th>\n",
       "      <th>May 2021</th>\n",
       "      <th>June 2021</th>\n",
       "      <th>July 2021</th>\n",
       "      <th>August 2021</th>\n",
       "      <th>September 2021</th>\n",
       "      <th>October 2021</th>\n",
       "      <th>November 2021</th>\n",
       "      <th>December 2021</th>\n",
       "      <th>Unnamed: 13</th>\n",
       "      <th>CY Total</th>\n",
       "    </tr>\n",
       "  </thead>\n",
       "  <tbody>\n",
       "    <tr>\n",
       "      <th>0</th>\n",
       "      <td>NaN</td>\n",
       "      <td>NaN</td>\n",
       "      <td>NaN</td>\n",
       "      <td>NaN</td>\n",
       "      <td>NaN</td>\n",
       "      <td>NaN</td>\n",
       "      <td>NaN</td>\n",
       "      <td>NaN</td>\n",
       "      <td>NaN</td>\n",
       "      <td>NaN</td>\n",
       "      <td>NaN</td>\n",
       "      <td>NaN</td>\n",
       "      <td>NaN</td>\n",
       "      <td>NaN</td>\n",
       "      <td>NaN</td>\n",
       "    </tr>\n",
       "    <tr>\n",
       "      <th>1</th>\n",
       "      <td>Allen County</td>\n",
       "      <td>$179,656.95</td>\n",
       "      <td>$198,296.15</td>\n",
       "      <td>$198,852.35</td>\n",
       "      <td>$170,017.20</td>\n",
       "      <td>$220,698.15</td>\n",
       "      <td>$233,208.62</td>\n",
       "      <td>$207,534.60</td>\n",
       "      <td>$222,248.65</td>\n",
       "      <td>$245,825.97</td>\n",
       "      <td>$216,890.47</td>\n",
       "      <td>$164,501.77</td>\n",
       "      <td>$282,431.55</td>\n",
       "      <td>NaN</td>\n",
       "      <td>$2,540,162.43</td>\n",
       "    </tr>\n",
       "    <tr>\n",
       "      <th>2</th>\n",
       "      <td>Anderson County</td>\n",
       "      <td>$99,419.17</td>\n",
       "      <td>$107,801.82</td>\n",
       "      <td>$92,757.01</td>\n",
       "      <td>$96,370.25</td>\n",
       "      <td>$122,369.53</td>\n",
       "      <td>$126,893.61</td>\n",
       "      <td>$114,436.59</td>\n",
       "      <td>$116,107.46</td>\n",
       "      <td>$122,823.17</td>\n",
       "      <td>$116,000.97</td>\n",
       "      <td>$109,329.40</td>\n",
       "      <td>$173,739.93</td>\n",
       "      <td>NaN</td>\n",
       "      <td>$1,398,048.91</td>\n",
       "    </tr>\n",
       "    <tr>\n",
       "      <th>3</th>\n",
       "      <td>Atchison County</td>\n",
       "      <td>$185,101.29</td>\n",
       "      <td>$215,743.10</td>\n",
       "      <td>$205,204.58</td>\n",
       "      <td>$197,686.55</td>\n",
       "      <td>$221,956.34</td>\n",
       "      <td>$229,019.17</td>\n",
       "      <td>$211,991.30</td>\n",
       "      <td>$214,438.53</td>\n",
       "      <td>$228,991.91</td>\n",
       "      <td>$219,069.96</td>\n",
       "      <td>$191,141.28</td>\n",
       "      <td>$257,749.86</td>\n",
       "      <td>NaN</td>\n",
       "      <td>$2,578,093.87</td>\n",
       "    </tr>\n",
       "    <tr>\n",
       "      <th>4</th>\n",
       "      <td>Barber County</td>\n",
       "      <td>$50,604.13</td>\n",
       "      <td>$52,913.17</td>\n",
       "      <td>$48,676.21</td>\n",
       "      <td>$51,192.55</td>\n",
       "      <td>$58,379.28</td>\n",
       "      <td>$62,516.17</td>\n",
       "      <td>$54,357.94</td>\n",
       "      <td>$53,762.62</td>\n",
       "      <td>$57,264.24</td>\n",
       "      <td>$55,271.06</td>\n",
       "      <td>$60,790.18</td>\n",
       "      <td>$81,992.53</td>\n",
       "      <td>NaN</td>\n",
       "      <td>$687,720.08</td>\n",
       "    </tr>\n",
       "  </tbody>\n",
       "</table>\n",
       "</div>"
      ],
      "text/plain": [
       "         City/County   January 2021  February 2021     March 2021  \\\n",
       "0                NaN            NaN            NaN            NaN   \n",
       "1      Allen County    $179,656.95    $198,296.15    $198,852.35    \n",
       "2   Anderson County     $99,419.17    $107,801.82     $92,757.01    \n",
       "3   Atchison County    $185,101.29    $215,743.10    $205,204.58    \n",
       "4     Barber County     $50,604.13     $52,913.17     $48,676.21    \n",
       "\n",
       "      April 2021       May 2021      June 2021      July 2021    August 2021  \\\n",
       "0            NaN            NaN            NaN            NaN            NaN   \n",
       "1   $170,017.20    $220,698.15    $233,208.62    $207,534.60    $222,248.65    \n",
       "2    $96,370.25    $122,369.53    $126,893.61    $114,436.59    $116,107.46    \n",
       "3   $197,686.55    $221,956.34    $229,019.17    $211,991.30    $214,438.53    \n",
       "4    $51,192.55     $58,379.28     $62,516.17     $54,357.94     $53,762.62    \n",
       "\n",
       "  September 2021   October 2021  November 2021  December 2021  Unnamed: 13  \\\n",
       "0            NaN            NaN            NaN            NaN          NaN   \n",
       "1   $245,825.97    $216,890.47    $164,501.77    $282,431.55           NaN   \n",
       "2   $122,823.17    $116,000.97    $109,329.40    $173,739.93           NaN   \n",
       "3   $228,991.91    $219,069.96    $191,141.28    $257,749.86           NaN   \n",
       "4    $57,264.24     $55,271.06     $60,790.18     $81,992.53           NaN   \n",
       "\n",
       "          CY Total  \n",
       "0              NaN  \n",
       "1   $2,540,162.43   \n",
       "2   $1,398,048.91   \n",
       "3   $2,578,093.87   \n",
       "4     $687,720.08   "
      ]
     },
     "execution_count": 33,
     "metadata": {},
     "output_type": "execute_result"
    }
   ],
   "source": [
    "KS_tax.head() #seeing how the data displays"
   ]
  },
  {
   "cell_type": "code",
   "execution_count": 34,
   "metadata": {},
   "outputs": [
    {
     "data": {
      "text/plain": [
       "City/County       409\n",
       "January 2021      409\n",
       "February 2021     409\n",
       "March 2021        409\n",
       "April 2021        409\n",
       "May 2021          409\n",
       "June 2021         409\n",
       "July 2021         409\n",
       "August 2021       409\n",
       "September 2021    409\n",
       "October 2021      409\n",
       "November 2021     409\n",
       "December 2021     409\n",
       "Unnamed: 13         0\n",
       "CY Total          409\n",
       "dtype: int64"
      ]
     },
     "execution_count": 34,
     "metadata": {},
     "output_type": "execute_result"
    }
   ],
   "source": [
    "KS_tax.count() #seeing if all rows have the same amount of data and comparing it to the previous one as a guide"
   ]
  },
  {
   "cell_type": "code",
   "execution_count": 20,
   "metadata": {},
   "outputs": [],
   "source": [
    "# I am creating variables for future use\n",
    "\n",
    "\n",
    "#checking overall statistics \n",
    "stats = national.describe()\n",
    "\n",
    "\n",
    "#columns\n",
    "national_columns = national.columns\n",
    "\n",
    "#I need to rename these column names\n",
    "State_Name = national['Name']\n",
    "Tax_Amount = national['Amount']\n",
    "\n",
    "\n"
   ]
  },
  {
   "cell_type": "code",
   "execution_count": 19,
   "metadata": {},
   "outputs": [
    {
     "data": {
      "text/plain": [
       "Index(['Name', 'Collection Month', 'Year', 'Tax Type', 'Amount', 'FIPS State',\n",
       "       'Numeric Month'],\n",
       "      dtype='object')"
      ]
     },
     "execution_count": 19,
     "metadata": {},
     "output_type": "execute_result"
    }
   ],
   "source": [
    "national.columns #viewing the column names"
   ]
  },
  {
   "cell_type": "code",
   "execution_count": 18,
   "metadata": {
    "scrolled": true
   },
   "outputs": [
    {
     "data": {
      "text/html": [
       "<div>\n",
       "<style scoped>\n",
       "    .dataframe tbody tr th:only-of-type {\n",
       "        vertical-align: middle;\n",
       "    }\n",
       "\n",
       "    .dataframe tbody tr th {\n",
       "        vertical-align: top;\n",
       "    }\n",
       "\n",
       "    .dataframe thead th {\n",
       "        text-align: right;\n",
       "    }\n",
       "</style>\n",
       "<table border=\"1\" class=\"dataframe\">\n",
       "  <thead>\n",
       "    <tr style=\"text-align: right;\">\n",
       "      <th></th>\n",
       "      <th>Year</th>\n",
       "      <th>Amount</th>\n",
       "      <th>FIPS State</th>\n",
       "      <th>Numeric Month</th>\n",
       "    </tr>\n",
       "  </thead>\n",
       "  <tbody>\n",
       "    <tr>\n",
       "      <th>count</th>\n",
       "      <td>11781.000000</td>\n",
       "      <td>9.162000e+03</td>\n",
       "      <td>11781.000000</td>\n",
       "      <td>11781.000000</td>\n",
       "    </tr>\n",
       "    <tr>\n",
       "      <th>mean</th>\n",
       "      <td>2020.090909</td>\n",
       "      <td>2.826828e+08</td>\n",
       "      <td>28.960784</td>\n",
       "      <td>6.909091</td>\n",
       "    </tr>\n",
       "    <tr>\n",
       "      <th>std</th>\n",
       "      <td>0.792561</td>\n",
       "      <td>8.800411e+08</td>\n",
       "      <td>15.677501</td>\n",
       "      <td>3.306366</td>\n",
       "    </tr>\n",
       "    <tr>\n",
       "      <th>min</th>\n",
       "      <td>2019.000000</td>\n",
       "      <td>-2.174000e+08</td>\n",
       "      <td>1.000000</td>\n",
       "      <td>1.000000</td>\n",
       "    </tr>\n",
       "    <tr>\n",
       "      <th>25%</th>\n",
       "      <td>2019.000000</td>\n",
       "      <td>1.029016e+07</td>\n",
       "      <td>16.000000</td>\n",
       "      <td>4.000000</td>\n",
       "    </tr>\n",
       "    <tr>\n",
       "      <th>50%</th>\n",
       "      <td>2020.000000</td>\n",
       "      <td>4.892506e+07</td>\n",
       "      <td>29.000000</td>\n",
       "      <td>7.000000</td>\n",
       "    </tr>\n",
       "    <tr>\n",
       "      <th>75%</th>\n",
       "      <td>2021.000000</td>\n",
       "      <td>2.369788e+08</td>\n",
       "      <td>42.000000</td>\n",
       "      <td>10.000000</td>\n",
       "    </tr>\n",
       "    <tr>\n",
       "      <th>max</th>\n",
       "      <td>2021.000000</td>\n",
       "      <td>2.425489e+10</td>\n",
       "      <td>56.000000</td>\n",
       "      <td>12.000000</td>\n",
       "    </tr>\n",
       "  </tbody>\n",
       "</table>\n",
       "</div>"
      ],
      "text/plain": [
       "               Year        Amount    FIPS State  Numeric Month\n",
       "count  11781.000000  9.162000e+03  11781.000000   11781.000000\n",
       "mean    2020.090909  2.826828e+08     28.960784       6.909091\n",
       "std        0.792561  8.800411e+08     15.677501       3.306366\n",
       "min     2019.000000 -2.174000e+08      1.000000       1.000000\n",
       "25%     2019.000000  1.029016e+07     16.000000       4.000000\n",
       "50%     2020.000000  4.892506e+07     29.000000       7.000000\n",
       "75%     2021.000000  2.369788e+08     42.000000      10.000000\n",
       "max     2021.000000  2.425489e+10     56.000000      12.000000"
      ]
     },
     "execution_count": 18,
     "metadata": {},
     "output_type": "execute_result"
    }
   ],
   "source": [
    "national.describe() #viewing the data stats"
   ]
  },
  {
   "cell_type": "code",
   "execution_count": 16,
   "metadata": {},
   "outputs": [
    {
     "data": {
      "text/plain": [
       "Name                11781\n",
       "Collection Month    11781\n",
       "Year                11781\n",
       "Tax Type            11781\n",
       "Amount               9162\n",
       "FIPS State          11781\n",
       "Numeric Month       11781\n",
       "dtype: int64"
      ]
     },
     "execution_count": 16,
     "metadata": {},
     "output_type": "execute_result"
    }
   ],
   "source": [
    "national.count() # comparing the amount of the data collected in each column to see if each column has the same amount of data"
   ]
  },
  {
   "cell_type": "code",
   "execution_count": 26,
   "metadata": {},
   "outputs": [],
   "source": [
    "NAICS_columns = NAICS.columns\n",
    "\n",
    "\n",
    "# I am creating dataframes with the first two columns which also contain many of the null values. I may want to merge them later\n",
    "codes = NAICS['NAICS Code']\n",
    "Industries = NAICS['Unnamed: 0']\n",
    "\n",
    "\n"
   ]
  },
  {
   "cell_type": "code",
   "execution_count": 23,
   "metadata": {},
   "outputs": [
    {
     "data": {
      "text/plain": [
       "Index(['Unnamed: 0', 'NAICS Code', ' Locations ', 'Month of', 'Month of.1',\n",
       "       'Percent', 'Fiscal Year 2021', 'Fiscal Year 2022', 'Percent.1'],\n",
       "      dtype='object')"
      ]
     },
     "execution_count": 23,
     "metadata": {},
     "output_type": "execute_result"
    }
   ],
   "source": [
    "NAICS.columns"
   ]
  },
  {
   "cell_type": "code",
   "execution_count": 21,
   "metadata": {
    "scrolled": true
   },
   "outputs": [
    {
     "data": {
      "text/html": [
       "<div>\n",
       "<style scoped>\n",
       "    .dataframe tbody tr th:only-of-type {\n",
       "        vertical-align: middle;\n",
       "    }\n",
       "\n",
       "    .dataframe tbody tr th {\n",
       "        vertical-align: top;\n",
       "    }\n",
       "\n",
       "    .dataframe thead th {\n",
       "        text-align: right;\n",
       "    }\n",
       "</style>\n",
       "<table border=\"1\" class=\"dataframe\">\n",
       "  <thead>\n",
       "    <tr style=\"text-align: right;\">\n",
       "      <th></th>\n",
       "      <th>Unnamed: 0</th>\n",
       "      <th>NAICS Code</th>\n",
       "      <th>Locations</th>\n",
       "      <th>Month of</th>\n",
       "      <th>Month of.1</th>\n",
       "      <th>Percent</th>\n",
       "      <th>Fiscal Year 2021</th>\n",
       "      <th>Fiscal Year 2022</th>\n",
       "      <th>Percent.1</th>\n",
       "    </tr>\n",
       "  </thead>\n",
       "  <tbody>\n",
       "    <tr>\n",
       "      <th>0</th>\n",
       "      <td>NaN</td>\n",
       "      <td>NaN</td>\n",
       "      <td>NaN</td>\n",
       "      <td>November 2020</td>\n",
       "      <td>November 2021</td>\n",
       "      <td>Change</td>\n",
       "      <td>July - November 2020</td>\n",
       "      <td>July - November 2021</td>\n",
       "      <td>Change</td>\n",
       "    </tr>\n",
       "    <tr>\n",
       "      <th>1</th>\n",
       "      <td>11 Agriculture, Forestry, Fishing and Hunting</td>\n",
       "      <td>NaN</td>\n",
       "      <td>NaN</td>\n",
       "      <td>NaN</td>\n",
       "      <td>NaN</td>\n",
       "      <td>NaN</td>\n",
       "      <td>NaN</td>\n",
       "      <td>NaN</td>\n",
       "      <td>NaN</td>\n",
       "    </tr>\n",
       "    <tr>\n",
       "      <th>2</th>\n",
       "      <td>NaN</td>\n",
       "      <td>111 Crop Production</td>\n",
       "      <td>10</td>\n",
       "      <td>$4,745.95</td>\n",
       "      <td>$7,097.19</td>\n",
       "      <td>49.5%</td>\n",
       "      <td>$25,549.22</td>\n",
       "      <td>$39,066.06</td>\n",
       "      <td>52.9%</td>\n",
       "    </tr>\n",
       "    <tr>\n",
       "      <th>3</th>\n",
       "      <td>NaN</td>\n",
       "      <td>112 Animal Production</td>\n",
       "      <td>11</td>\n",
       "      <td>$6,351.24</td>\n",
       "      <td>$2,284.42</td>\n",
       "      <td>-64.0%</td>\n",
       "      <td>$34,045.34</td>\n",
       "      <td>$31,309.63</td>\n",
       "      <td>-8.0%</td>\n",
       "    </tr>\n",
       "    <tr>\n",
       "      <th>4</th>\n",
       "      <td>NaN</td>\n",
       "      <td>115 Agriculture and Forestry Support Activities</td>\n",
       "      <td>6</td>\n",
       "      <td>$10,419.29</td>\n",
       "      <td>$21,398.96</td>\n",
       "      <td>105.4%</td>\n",
       "      <td>$87,421.06</td>\n",
       "      <td>$98,048.31</td>\n",
       "      <td>12.2%</td>\n",
       "    </tr>\n",
       "    <tr>\n",
       "      <th>5</th>\n",
       "      <td>2-digit Total</td>\n",
       "      <td>NaN</td>\n",
       "      <td>27</td>\n",
       "      <td>$21,516.48</td>\n",
       "      <td>$30,780.57</td>\n",
       "      <td>43.1%</td>\n",
       "      <td>$147,015.62</td>\n",
       "      <td>$168,424.00</td>\n",
       "      <td>14.6%</td>\n",
       "    </tr>\n",
       "  </tbody>\n",
       "</table>\n",
       "</div>"
      ],
      "text/plain": [
       "                                      Unnamed: 0  \\\n",
       "0                                            NaN   \n",
       "1  11 Agriculture, Forestry, Fishing and Hunting   \n",
       "2                                            NaN   \n",
       "3                                            NaN   \n",
       "4                                            NaN   \n",
       "5                                  2-digit Total   \n",
       "\n",
       "                                        NAICS Code  Locations        Month of  \\\n",
       "0                                              NaN         NaN  November 2020   \n",
       "1                                              NaN         NaN            NaN   \n",
       "2                              111 Crop Production         10      $4,745.95    \n",
       "3                            112 Animal Production         11      $6,351.24    \n",
       "4  115 Agriculture and Forestry Support Activities          6     $10,419.29    \n",
       "5                                              NaN         27     $21,516.48    \n",
       "\n",
       "      Month of.1 Percent      Fiscal Year 2021      Fiscal Year 2022 Percent.1  \n",
       "0  November 2021  Change  July - November 2020  July - November 2021    Change  \n",
       "1            NaN     NaN                   NaN                   NaN       NaN  \n",
       "2     $7,097.19    49.5%           $25,549.22            $39,066.06      52.9%  \n",
       "3     $2,284.42   -64.0%           $34,045.34            $31,309.63      -8.0%  \n",
       "4    $21,398.96   105.4%           $87,421.06            $98,048.31      12.2%  \n",
       "5    $30,780.57    43.1%          $147,015.62           $168,424.00      14.6%  "
      ]
     },
     "execution_count": 21,
     "metadata": {},
     "output_type": "execute_result"
    }
   ],
   "source": [
    "NAICS.head(6) # display the data I added the 6 to see the whole data for 1 industry"
   ]
  },
  {
   "cell_type": "code",
   "execution_count": 25,
   "metadata": {},
   "outputs": [
    {
     "data": {
      "text/plain": [
       "Unnamed: 0           46\n",
       "NAICS Code           88\n",
       " Locations          110\n",
       "Month of            111\n",
       "Month of.1          111\n",
       "Percent             106\n",
       "Fiscal Year 2021    111\n",
       "Fiscal Year 2022    111\n",
       "Percent.1           106\n",
       "dtype: int64"
      ]
     },
     "execution_count": 25,
     "metadata": {},
     "output_type": "execute_result"
    }
   ],
   "source": [
    "NAICS.count() # I understand based on the previous describe function that the null values are necessary"
   ]
  },
  {
   "cell_type": "code",
   "execution_count": 8,
   "metadata": {},
   "outputs": [
    {
     "data": {
      "text/plain": [
       "Index(['Unnamed: 0', 'NAICS Code', ' Locations ', 'Month of', 'Month of.1',\n",
       "       'Percent', 'Fiscal Year 2021', 'Fiscal Year 2022', 'Percent.1'],\n",
       "      dtype='object')"
      ]
     },
     "execution_count": 8,
     "metadata": {},
     "output_type": "execute_result"
    }
   ],
   "source": [
    "NAICS.columns # display column names"
   ]
  },
  {
   "cell_type": "markdown",
   "metadata": {
    "azdata_cell_guid": "d45060f3-97bc-484a-9ef4-66145bbe9427"
   },
   "source": [
    "## Visualize\n",
    "\n",
    "Create any visualizations for your EDA here. Make note in the form of code comments of what your thought process is for your visualizations."
   ]
  },
  {
   "cell_type": "code",
   "execution_count": 103,
   "metadata": {
    "azdata_cell_guid": "f4565b03-759a-47a8-b58f-01b32a0b4b67"
   },
   "outputs": [
    {
     "data": {
      "text/plain": [
       "Text(0.5, 1.0, 'NAICS Codes Null values in Yellow')"
      ]
     },
     "execution_count": 103,
     "metadata": {},
     "output_type": "execute_result"
    },
    {
     "data": {
      "image/png": "[encoded data removed]",
      "text/plain": [
       "<Figure size 864x576 with 2 Axes>"
      ]
     },
     "metadata": {
      "needs_background": "light"
     },
     "output_type": "display_data"
    }
   ],
   "source": [
    "# I created a heatmap in order to know how to process it\n",
    "\n",
    "NAICS_colors = ['#000099', '#ffff00'] # specify the colors - yellow is missing. blue is not missing.\n",
    "sns.heatmap(NAICS[NAICS_columns].isnull(), cmap=sns.color_palette(NAICS_colors))\n",
    "plt.title('NAICS Codes Null values in Yellow')"
   ]
  },
  {
   "cell_type": "code",
   "execution_count": 108,
   "metadata": {
    "azdata_cell_guid": "cd64bab1-db4c-4295-820d-c6464b653a3e"
   },
   "outputs": [
    {
     "data": {
      "text/plain": [
       "Text(0.5, 1.0, 'KS Taxes Null values in Yellow')"
      ]
     },
     "execution_count": 108,
     "metadata": {},
     "output_type": "execute_result"
    },
    {
     "data": {
      "image/png": "[encoded data removed]",
      "text/plain": [
       "<Figure size 864x576 with 2 Axes>"
      ]
     },
     "metadata": {
      "needs_background": "light"
     },
     "output_type": "display_data"
    }
   ],
   "source": [
    "# I am creating a heatmap to show the null values. This will help me determine what to do with these\n",
    "\n",
    "KS_tax_colors = ['#000099', '#ffff00'] # specify the colors - yellow is missing. blue is not missing.\n",
    "sns.heatmap(KS_tax[KS_tax_columns].isnull(), cmap=sns.color_palette(KS_tax_colors))\n",
    "plt.title('KS Taxes Null values in Yellow')"
   ]
  },
  {
   "cell_type": "code",
   "execution_count": 119,
   "metadata": {},
   "outputs": [
    {
     "data": {
      "text/plain": [
       "Text(0.5, 1.0, 'National Revenue by State Null values in Yellow')"
      ]
     },
     "execution_count": 119,
     "metadata": {},
     "output_type": "execute_result"
    },
    {
     "data": {
      "image/png": "[encoded data removed]",
      "text/plain": [
       "<Figure size 864x576 with 2 Axes>"
      ]
     },
     "metadata": {
      "needs_background": "light"
     },
     "output_type": "display_data"
    }
   ],
   "source": [
    "# I am creating a heatmap to show null values in order to know what to do with them\n",
    "\n",
    "\n",
    "national_colors = ['#000099', '#ffff00'] # specify the colors - yellow is missing. blue is not missing.\n",
    "sns.heatmap(national[national_columns].isnull(), cmap=sns.color_palette(national_colors))\n",
    "plt.title('National Revenue by State Null values in Yellow')"
   ]
  },
  {
   "cell_type": "code",
   "execution_count": null,
   "metadata": {},
   "outputs": [],
   "source": [
    "\n",
    "\n"
   ]
  },
  {
   "cell_type": "markdown",
   "metadata": {
    "azdata_cell_guid": "d4931c0c-2c09-4ee1-95d4-73dd08c2f0a6"
   },
   "source": [
    "## Summarize Your Results\n",
    "\n",
    "With your EDA complete, answer the following questions.\n",
    "\n",
    "1. Was there anything surprising about your dataset? \n",
    "2. Do you have any concerns about your dataset? \n",
    "3. Is there anything you want to make note of for the next phase of your analysis, which is cleaning data? "
   ]
  },
  {
   "cell_type": "markdown",
   "metadata": {},
   "source": [
    "The orignal datasets I used did not work well due to the formatting so I had to use a different set.\n",
    "\n",
    "Concerns:\n",
    "One of the concerns I have about the datasets is there are blank rows included. There values that are duplicates, but the data reprseneted by these labels are not duplicate values. \n",
    "\n",
    "NAICS data:\n",
    "I will have to rename the unanmed row in the NAICS code data to show the name of the industry. I will also need to specify that this is specific to the State of Kansas. The Null values will need to stay in place in the unnamed row, but I would like to try to rename them to match the NAICS Code row. The '2-digit Total' value appears multiple times in the NAICS data, but this is not a duplicate it reprents the totals, so I will have to decide whether it is possible to rename it with a specific industry name for each instance, or drop it. This does provide a good check on using sum in when I am wanting to check a subsector within a sector. I may have to use an iteration. Deciding what to do with the null values and this duplicates will be my greatest challenge. I may try to merge NAICS code with the unnamed column\n",
    "\n",
    "National data:\n",
    "For the national data, I may want to reformat the amount in a dollar format. \n",
    "\n",
    "KS data: \n",
    "With this data set entire rows are null so I may need to drop them. Also there is a column that is entirely blank so I will need to drop this as well. I want to rename some of the  names of the columns in order to help with organizing the data"
   ]
  }
 ],
 "metadata": {
  "kernelspec": {
   "display_name": "Python 3 (ipykernel)",
   "language": "python",
   "name": "python3"
  },
  "language_info": {
   "codemirror_mode": {
    "name": "ipython",
    "version": 3
   },
   "file_extension": ".py",
   "mimetype": "text/x-python",
   "name": "python",
   "nbconvert_exporter": "python",
   "pygments_lexer": "ipython3",
   "version": "3.8.8"
  }
 },
 "nbformat": 4,
 "nbformat_minor": 2
}
