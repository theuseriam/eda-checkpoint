{
 "cells": [
  {
   "cell_type": "markdown",
   "metadata": {
    "azdata_cell_guid": "151601c9-ca7a-412e-af80-c62a87e0837e"
   },
   "source": [
    "# Checkpoint Two: Exploratory Data Analysis\n",
    "\n",
    "Now that your chosen dataset is approved, it is time to start working on your analysis. Use this notebook to perform your EDA and make notes where directed to as you work.\n",
    "\n",
    "## Getting Started\n",
    "\n",
    "Since we have not provided your dataset for you, you will need to load the necessary files in this repository. Make sure to include a link back to the original dataset here as well.\n",
    "\n",
    "My dataset:\n",
    "\n",
    "Your first task in EDA is to import necessary libraries and create a dataframe(s). Make note in the form of code comments of what your thought process is as you work on this setup task."
   ]
  },
  {
   "cell_type": "code",
   "execution_count": 34,
   "metadata": {
    "azdata_cell_guid": "7b503e37-6df5-4433-acfb-678b1346db14",
    "scrolled": true
   },
   "outputs": [],
   "source": [
    "# import the pandas library and use the alias 'pd'\n",
    "import pandas as pd\n",
    "\n",
    "\n",
    "# Create 3 new dataframes\n",
    "\n",
    "NAICS = pd.read_csv('KS 2020-2021 NAICS Code.csv')\n",
    "KS_tax = pd.read_csv('KS 2021 Sales Tax Revenue by County.csv')\n",
    "national = pd.read_csv('selected-monthly-sales-tax-collections-data.csv')\n"
   ]
  },
  {
   "cell_type": "markdown",
   "metadata": {
    "azdata_cell_guid": "129ce836-524b-4ea8-b394-a959f9308d6a"
   },
   "source": [
    "## Get to Know the Numbers\n",
    "\n",
    "Now that you have everything setup, put any code that you use to get to know the dataframe and its rows and columns better in the cell below. You can use whatever techniques you like, except for visualizations. You will put those in a separate section.\n",
    "\n",
    "When working on your code, make sure to leave comments so that your mentors can understand your thought process."
   ]
  },
  {
   "cell_type": "code",
   "execution_count": 85,
   "metadata": {
    "azdata_cell_guid": "0ca2d318-f6e8-43ef-a33e-5304d24d928d",
    "tags": []
   },
   "outputs": [
    {
     "data": {
      "text/plain": [
       "Index(['City/County', 'January 2021', 'February 2021', 'March 2021',\n",
       "       'April 2021', 'May 2021', 'June 2021', 'July 2021', 'August 2021',\n",
       "       'September 2021', 'October 2021', 'November 2021', 'December 2021',\n",
       "       'Unnamed: 13', 'CY Total'],\n",
       "      dtype='object')"
      ]
     },
     "execution_count": 85,
     "metadata": {},
     "output_type": "execute_result"
    }
   ],
   "source": [
    "# I am using head in order to see how the data pulls into Python\n",
    "KS_tax.head()\n",
    "\n",
    "KS_tax['May 2021'].describe() # I was unable to use desribe on the whole dataset so I am testing it on the columns. \n",
    "#Using these types of data frames will provide state totals for that particular month\n",
    "\n",
    "\n",
    "# I need to know column names in order to run queries\n",
    "KS_tax.columns"
   ]
  },
  {
   "cell_type": "code",
   "execution_count": 86,
   "metadata": {},
   "outputs": [
    {
     "data": {
      "text/plain": [
       "Index(['Name', 'Collection Month', 'Year', 'Tax Type', 'Amount', 'FIPS State',\n",
       "       'Numeric Month'],\n",
       "      dtype='object')"
      ]
     },
     "execution_count": 86,
     "metadata": {},
     "output_type": "execute_result"
    }
   ],
   "source": [
    "# I am using head in order to see how the data pulls into Python\n",
    "national.head()\n",
    "\n",
    "#checking overall statistics \n",
    "national.describe()\n",
    "\n",
    "national.columns"
   ]
  },
  {
   "cell_type": "code",
   "execution_count": 96,
   "metadata": {},
   "outputs": [
    {
     "name": "stdout",
     "output_type": "stream",
     "text": [
      "The first industry in the KS NAICS data is:                                        Unnamed: 0  \\\n",
      "0                                            NaN   \n",
      "1  11 Agriculture, Forestry, Fishing and Hunting   \n",
      "2                                            NaN   \n",
      "3                                            NaN   \n",
      "4                                            NaN   \n",
      "5                                  2-digit Total   \n",
      "\n",
      "                                        NAICS Code  Locations        Month of  \\\n",
      "0                                              NaN         NaN  November 2020   \n",
      "1                                              NaN         NaN            NaN   \n",
      "2                              111 Crop Production         10      $4,745.95    \n",
      "3                            112 Animal Production         11      $6,351.24    \n",
      "4  115 Agriculture and Forestry Support Activities          6     $10,419.29    \n",
      "5                                              NaN         27     $21,516.48    \n",
      "\n",
      "      Month of.1 Percent      Fiscal Year 2021      Fiscal Year 2022 Percent.1  \n",
      "0  November 2021  Change  July - November 2020  July - November 2021    Change  \n",
      "1            NaN     NaN                   NaN                   NaN       NaN  \n",
      "2     $7,097.19    49.5%           $25,549.22            $39,066.06      52.9%  \n",
      "3     $2,284.42   -64.0%           $34,045.34            $31,309.63      -8.0%  \n",
      "4    $21,398.96   105.4%           $87,421.06            $98,048.31      12.2%  \n",
      "5    $30,780.57    43.1%          $147,015.62           $168,424.00      14.6%   \n",
      "\n",
      "\n",
      "\n",
      "The columns are:  Index(['Unnamed: 0', 'NAICS Code', ' Locations ', 'Month of', 'Month of.1',\n",
      "       'Percent', 'Fiscal Year 2021', 'Fiscal Year 2022', 'Percent.1'],\n",
      "      dtype='object') \n",
      "\n",
      "\n",
      "\n",
      "These two dataframes may need to be merged: Codes  0                                                  NaN\n",
      "1                                                  NaN\n",
      "2                                  111 Crop Production\n",
      "3                                112 Animal Production\n",
      "4      115 Agriculture and Forestry Support Activities\n",
      "                            ...                       \n",
      "148                                                NaN\n",
      "149                    999 Unclassified Establishments\n",
      "150                                                NaN\n",
      "151                                                NaN\n",
      "152                                                NaN\n",
      "Name: NAICS Code, Length: 153, dtype: object \n",
      " and Industries  0                                                NaN\n",
      "1      11 Agriculture, Forestry, Fishing and Hunting\n",
      "2                                                NaN\n",
      "3                                                NaN\n",
      "4                                                NaN\n",
      "                           ...                      \n",
      "148                   99 Unclassified Establishments\n",
      "149                                              NaN\n",
      "150                                    2-digit Total\n",
      "151                                              NaN\n",
      "152                                           Total \n",
      "Name: Unnamed: 0, Length: 153, dtype: object\n"
     ]
    }
   ],
   "source": [
    "# I am using head in order to see how the data pulls into Python. I added the 6 to see the whole data for 1 industry\n",
    "\n",
    "first_industry = NAICS.head(6)\n",
    "\n",
    "NAICS_columns = NAICS.columns\n",
    "\n",
    "\n",
    "# I am creating dataframes with the first two columns which also contain many of the null values. \n",
    "codes = NAICS['NAICS Code']\n",
    "Industries = NAICS['Unnamed: 0']\n",
    "\n",
    "\n",
    "\n",
    "# I stored the methods I used in varibles and I am using print statements to display them\n",
    "print('The first industry in the KS NAICS data is: ', first_industry, '\\n\\n\\n')\n",
    "print('The columns are: ', NAICS_columns,'\\n\\n\\n')\n",
    "print('These two dataframes may need to be merged: Codes ', codes,'\\n and Industries ', Industries)\n",
    "\n"
   ]
  },
  {
   "cell_type": "markdown",
   "metadata": {
    "azdata_cell_guid": "d45060f3-97bc-484a-9ef4-66145bbe9427"
   },
   "source": [
    "## Visualize\n",
    "\n",
    "Create any visualizations for your EDA here. Make note in the form of code comments of what your thought process is for your visualizations."
   ]
  },
  {
   "cell_type": "code",
   "execution_count": null,
   "metadata": {
    "azdata_cell_guid": "f4565b03-759a-47a8-b58f-01b32a0b4b67"
   },
   "outputs": [],
   "source": []
  },
  {
   "cell_type": "code",
   "execution_count": 19,
   "metadata": {
    "azdata_cell_guid": "cd64bab1-db4c-4295-820d-c6464b653a3e"
   },
   "outputs": [],
   "source": []
  },
  {
   "cell_type": "markdown",
   "metadata": {
    "azdata_cell_guid": "d4931c0c-2c09-4ee1-95d4-73dd08c2f0a6"
   },
   "source": [
    "## Summarize Your Results\n",
    "\n",
    "With your EDA complete, answer the following questions.\n",
    "\n",
    "1. Was there anything surprising about your dataset? \n",
    "2. Do you have any concerns about your dataset? \n",
    "3. Is there anything you want to make note of for the next phase of your analysis, which is cleaning data? "
   ]
  },
  {
   "cell_type": "markdown",
   "metadata": {},
   "source": [
    "The orignal datasets I used did not work well due to the formatting so I had to use a different set.\n",
    "\n",
    "Concerns:\n",
    "One of the concerns I have about the datasets is there are blank rows included. There values that are duplicates, but the data reprseneted by these labels are not duplicate values. \n",
    "\n",
    "NAICS data:\n",
    "I will have to rename the unanmed row in the NAICS code data to show the name of the industry. I will also need to specify that this is specific to the State of Kansas. The Null values will need to stay in place in the unnamed row, but I would like to try to rename them to match the NAICS Code row. The '2-digit Total' value appears multiple times in the NAICS data, but this is not a duplicate it reprents the totals, so I will have to decide whether it is possible to rename it with a specific industry name for each instance, or drop it. This does provide a good check on using sum in when I am wanting to check a subsector within a sector. I may have to use an iteration. Deciding what to do with the null values and this duplicates will be my greatest challenge. I may try to merge NAICS code with the unnamed column\n",
    "\n",
    "National data:\n",
    "For the national data, I may want to reformat the amount in a dollar format. \n",
    "\n",
    "KS data: \n",
    "With this data set entire rows are null so I may need to drop them. Also there is a column that is entirely blank so I will need to drop this as well"
   ]
  }
 ],
 "metadata": {
  "kernelspec": {
   "display_name": "Python 3 (ipykernel)",
   "language": "python",
   "name": "python3"
  },
  "language_info": {
   "codemirror_mode": {
    "name": "ipython",
    "version": 3
   },
   "file_extension": ".py",
   "mimetype": "text/x-python",
   "name": "python",
   "nbconvert_exporter": "python",
   "pygments_lexer": "ipython3",
   "version": "3.8.8"
  }
 },
 "nbformat": 4,
 "nbformat_minor": 2
}
